{
 "cells": [
  {
   "cell_type": "code",
   "execution_count": 1,
   "metadata": {},
   "outputs": [],
   "source": [
    "import pandas as pd\n",
    "pd.set_option(\"display.max_columns\", None)\n"
   ]
  },
  {
   "cell_type": "code",
   "execution_count": 2,
   "metadata": {},
   "outputs": [
    {
     "name": "stdout",
     "output_type": "stream",
     "text": [
      "Producto con sus nutrientes\n",
      "            Nombre  Caloria  Proteina  Grasa  Fibra  Carbohidrato\n",
      "0     Baked Potato    95.00      2.63   0.13   2.30         21.40\n",
      "1   Crispy Chicken   187.00     33.40   4.71   0.00          0.51\n",
      "2            Donut   421.00      6.14  22.70   2.10         47.90\n",
      "3            Fries   180.05      2.97  12.31   1.83         15.27\n",
      "4          Hot Dog   211.00     19.30  14.04   0.00          1.75\n",
      "5         Sandwich   164.32      7.46   8.10   2.22         15.95\n",
      "6            Tacos   158.52      8.02   8.94   2.04         11.99\n",
      "7         Taquitos   176.85     10.00   9.67   1.88         13.03\n",
      "8        apple pie   265.00      2.40  12.50   0.00         37.10\n",
      "9           burger   182.66     14.24   8.98   0.62         11.46\n",
      "10     butter naan   274.76      6.92   8.89   1.81         41.42\n",
      "11            chai    41.60      1.39   1.63   0.45          5.70\n",
      "12         chapati   297.00     11.20   7.45   4.90         46.40\n",
      "13      cheesecake   321.00      5.50  22.50   0.40         25.50\n",
      "14   chicken curry   141.11      9.43   8.54   1.18          6.88\n",
      "15   chole bhature   187.93      6.00   8.25   3.69         23.76\n",
      "16     dal makhani   139.88      5.56   6.32   3.91         16.65\n",
      "17      fried rice   172.84      5.58   5.67   1.24         24.54\n",
      "18       ice cream   205.03      3.16  11.94   0.71         22.35\n",
      "19            idli   565.00      6.36   0.62   5.00         26.31\n",
      "20          jalebi   234.56      2.14   8.03   0.60         39.46\n",
      "21           rolls   252.00      6.71   8.37   2.26         37.71\n",
      "22    kadai paneer    74.53      3.70   4.14   1.57          6.57\n",
      "23     masala dosa   153.37      3.79   4.90   2.50         23.45\n",
      "24           momos   178.58      7.30   8.21   1.30         18.88\n",
      "25        omelette   161.09      8.97  12.42   0.62          3.32\n",
      "26          pakora   175.38      4.68  10.18   3.33         17.19\n",
      "27       pav bhaji    99.25      2.69   3.60   2.27         14.96\n",
      "28           pizza   268.00     10.40  12.30   2.20         29.00\n",
      "29           sushi   126.96      4.18   2.75   0.76         20.90\n"
     ]
    }
   ],
   "source": [
    "df = pd.read_csv('EdamamApi.csv',sep=\";\")\n",
    "\n",
    "print(\"Producto con sus nutrientes\")\n",
    "print(df) "
   ]
  },
  {
   "cell_type": "code",
   "execution_count": 13,
   "metadata": {},
   "outputs": [
    {
     "name": "stdout",
     "output_type": "stream",
     "text": [
      "Hay 30 comidas diferentes.\n",
      "Las comidas son: ['Baked Potato', 'Crispy Chicken', 'Donut', 'Fries', 'Hot Dog', 'Sandwich', 'Tacos', 'Taquitos', 'apple pie', 'burger', 'butter naan', 'chai', 'chapati', 'cheesecake', 'chicken curry', 'chole bhature', 'dal makhani', 'fried rice', 'ice cream', 'idli', 'jalebi', 'rolls', 'kadai paneer', 'masala dosa', 'momos', 'omelette', 'pakora', 'pav bhaji', 'pizza', 'sushi']\n"
     ]
    }
   ],
   "source": [
    "print(f\"Hay {df.shape[0]} comidas diferentes.\")\n",
    "print(f\"Las comidas son: {df['Nombre'].values.flatten().tolist()}\")"
   ]
  },
  {
   "cell_type": "code",
   "execution_count": 4,
   "metadata": {},
   "outputs": [
    {
     "name": "stdout",
     "output_type": "stream",
     "text": [
      "Tipos de columnas\n",
      "Nombre           object\n",
      "Caloria         float64\n",
      "Proteina        float64\n",
      "Grasa           float64\n",
      "Fibra           float64\n",
      "Carbohidrato    float64\n",
      "dtype: object\n"
     ]
    }
   ],
   "source": [
    "print(\"Tipos de columnas\")\n",
    "print(df.dtypes)"
   ]
  },
  {
   "cell_type": "code",
   "execution_count": 5,
   "metadata": {},
   "outputs": [
    {
     "name": "stdout",
     "output_type": "stream",
     "text": [
      "Descripción de los nutrientes\n"
     ]
    },
    {
     "data": {
      "text/html": [
       "<div>\n",
       "<style scoped>\n",
       "    .dataframe tbody tr th:only-of-type {\n",
       "        vertical-align: middle;\n",
       "    }\n",
       "\n",
       "    .dataframe tbody tr th {\n",
       "        vertical-align: top;\n",
       "    }\n",
       "\n",
       "    .dataframe thead th {\n",
       "        text-align: right;\n",
       "    }\n",
       "</style>\n",
       "<table border=\"1\" class=\"dataframe\">\n",
       "  <thead>\n",
       "    <tr style=\"text-align: right;\">\n",
       "      <th></th>\n",
       "      <th>Caloria</th>\n",
       "      <th>Proteina</th>\n",
       "      <th>Grasa</th>\n",
       "      <th>Fibra</th>\n",
       "      <th>Carbohidrato</th>\n",
       "    </tr>\n",
       "  </thead>\n",
       "  <tbody>\n",
       "    <tr>\n",
       "      <th>count</th>\n",
       "      <td>30.000000</td>\n",
       "      <td>30.000000</td>\n",
       "      <td>30.000000</td>\n",
       "      <td>30.000000</td>\n",
       "      <td>30.000000</td>\n",
       "    </tr>\n",
       "    <tr>\n",
       "      <th>mean</th>\n",
       "      <td>203.709000</td>\n",
       "      <td>7.407333</td>\n",
       "      <td>8.626333</td>\n",
       "      <td>1.789667</td>\n",
       "      <td>20.910333</td>\n",
       "    </tr>\n",
       "    <tr>\n",
       "      <th>std</th>\n",
       "      <td>103.164765</td>\n",
       "      <td>6.250621</td>\n",
       "      <td>5.258623</td>\n",
       "      <td>1.350271</td>\n",
       "      <td>13.023107</td>\n",
       "    </tr>\n",
       "    <tr>\n",
       "      <th>min</th>\n",
       "      <td>41.600000</td>\n",
       "      <td>1.390000</td>\n",
       "      <td>0.130000</td>\n",
       "      <td>0.000000</td>\n",
       "      <td>0.510000</td>\n",
       "    </tr>\n",
       "    <tr>\n",
       "      <th>25%</th>\n",
       "      <td>154.657500</td>\n",
       "      <td>3.722500</td>\n",
       "      <td>5.092500</td>\n",
       "      <td>0.642500</td>\n",
       "      <td>12.250000</td>\n",
       "    </tr>\n",
       "    <tr>\n",
       "      <th>50%</th>\n",
       "      <td>179.315000</td>\n",
       "      <td>6.070000</td>\n",
       "      <td>8.310000</td>\n",
       "      <td>1.820000</td>\n",
       "      <td>19.890000</td>\n",
       "    </tr>\n",
       "    <tr>\n",
       "      <th>75%</th>\n",
       "      <td>247.640000</td>\n",
       "      <td>8.732500</td>\n",
       "      <td>11.500000</td>\n",
       "      <td>2.267500</td>\n",
       "      <td>26.107500</td>\n",
       "    </tr>\n",
       "    <tr>\n",
       "      <th>max</th>\n",
       "      <td>565.000000</td>\n",
       "      <td>33.400000</td>\n",
       "      <td>22.700000</td>\n",
       "      <td>5.000000</td>\n",
       "      <td>47.900000</td>\n",
       "    </tr>\n",
       "  </tbody>\n",
       "</table>\n",
       "</div>"
      ],
      "text/plain": [
       "          Caloria   Proteina      Grasa      Fibra  Carbohidrato\n",
       "count   30.000000  30.000000  30.000000  30.000000     30.000000\n",
       "mean   203.709000   7.407333   8.626333   1.789667     20.910333\n",
       "std    103.164765   6.250621   5.258623   1.350271     13.023107\n",
       "min     41.600000   1.390000   0.130000   0.000000      0.510000\n",
       "25%    154.657500   3.722500   5.092500   0.642500     12.250000\n",
       "50%    179.315000   6.070000   8.310000   1.820000     19.890000\n",
       "75%    247.640000   8.732500  11.500000   2.267500     26.107500\n",
       "max    565.000000  33.400000  22.700000   5.000000     47.900000"
      ]
     },
     "execution_count": 5,
     "metadata": {},
     "output_type": "execute_result"
    }
   ],
   "source": [
    "print(\"Descripción de los nutrientes\")\n",
    "df.describe()"
   ]
  },
  {
   "cell_type": "code",
   "execution_count": 6,
   "metadata": {},
   "outputs": [
    {
     "name": "stdout",
     "output_type": "stream",
     "text": [
      "Alimentos con fibra\n"
     ]
    },
    {
     "data": {
      "text/html": [
       "<div>\n",
       "<style scoped>\n",
       "    .dataframe tbody tr th:only-of-type {\n",
       "        vertical-align: middle;\n",
       "    }\n",
       "\n",
       "    .dataframe tbody tr th {\n",
       "        vertical-align: top;\n",
       "    }\n",
       "\n",
       "    .dataframe thead th {\n",
       "        text-align: right;\n",
       "    }\n",
       "</style>\n",
       "<table border=\"1\" class=\"dataframe\">\n",
       "  <thead>\n",
       "    <tr style=\"text-align: right;\">\n",
       "      <th></th>\n",
       "      <th>Nombre</th>\n",
       "      <th>Caloria</th>\n",
       "      <th>Proteina</th>\n",
       "      <th>Grasa</th>\n",
       "      <th>Fibra</th>\n",
       "      <th>Carbohidrato</th>\n",
       "    </tr>\n",
       "  </thead>\n",
       "  <tbody>\n",
       "    <tr>\n",
       "      <th>1</th>\n",
       "      <td>Crispy Chicken</td>\n",
       "      <td>187.0</td>\n",
       "      <td>33.4</td>\n",
       "      <td>4.71</td>\n",
       "      <td>0.0</td>\n",
       "      <td>0.51</td>\n",
       "    </tr>\n",
       "    <tr>\n",
       "      <th>4</th>\n",
       "      <td>Hot Dog</td>\n",
       "      <td>211.0</td>\n",
       "      <td>19.3</td>\n",
       "      <td>14.04</td>\n",
       "      <td>0.0</td>\n",
       "      <td>1.75</td>\n",
       "    </tr>\n",
       "    <tr>\n",
       "      <th>8</th>\n",
       "      <td>apple pie</td>\n",
       "      <td>265.0</td>\n",
       "      <td>2.4</td>\n",
       "      <td>12.50</td>\n",
       "      <td>0.0</td>\n",
       "      <td>37.10</td>\n",
       "    </tr>\n",
       "  </tbody>\n",
       "</table>\n",
       "</div>"
      ],
      "text/plain": [
       "           Nombre  Caloria  Proteina  Grasa  Fibra  Carbohidrato\n",
       "1  Crispy Chicken    187.0      33.4   4.71    0.0          0.51\n",
       "4         Hot Dog    211.0      19.3  14.04    0.0          1.75\n",
       "8       apple pie    265.0       2.4  12.50    0.0         37.10"
      ]
     },
     "execution_count": 6,
     "metadata": {},
     "output_type": "execute_result"
    }
   ],
   "source": [
    "print(\"Alimentos con fibra\")\n",
    "df[df[\"Fibra\"]==0]"
   ]
  },
  {
   "cell_type": "code",
   "execution_count": 7,
   "metadata": {},
   "outputs": [
    {
     "name": "stdout",
     "output_type": "stream",
     "text": [
      "Alimentos con bajo valo de carbohidratos\n"
     ]
    },
    {
     "data": {
      "text/html": [
       "<div>\n",
       "<style scoped>\n",
       "    .dataframe tbody tr th:only-of-type {\n",
       "        vertical-align: middle;\n",
       "    }\n",
       "\n",
       "    .dataframe tbody tr th {\n",
       "        vertical-align: top;\n",
       "    }\n",
       "\n",
       "    .dataframe thead th {\n",
       "        text-align: right;\n",
       "    }\n",
       "</style>\n",
       "<table border=\"1\" class=\"dataframe\">\n",
       "  <thead>\n",
       "    <tr style=\"text-align: right;\">\n",
       "      <th></th>\n",
       "      <th>Nombre</th>\n",
       "      <th>Caloria</th>\n",
       "      <th>Proteina</th>\n",
       "      <th>Grasa</th>\n",
       "      <th>Fibra</th>\n",
       "      <th>Carbohidrato</th>\n",
       "    </tr>\n",
       "  </thead>\n",
       "  <tbody>\n",
       "    <tr>\n",
       "      <th>1</th>\n",
       "      <td>Crispy Chicken</td>\n",
       "      <td>187.00</td>\n",
       "      <td>33.40</td>\n",
       "      <td>4.71</td>\n",
       "      <td>0.00</td>\n",
       "      <td>0.51</td>\n",
       "    </tr>\n",
       "    <tr>\n",
       "      <th>4</th>\n",
       "      <td>Hot Dog</td>\n",
       "      <td>211.00</td>\n",
       "      <td>19.30</td>\n",
       "      <td>14.04</td>\n",
       "      <td>0.00</td>\n",
       "      <td>1.75</td>\n",
       "    </tr>\n",
       "    <tr>\n",
       "      <th>25</th>\n",
       "      <td>omelette</td>\n",
       "      <td>161.09</td>\n",
       "      <td>8.97</td>\n",
       "      <td>12.42</td>\n",
       "      <td>0.62</td>\n",
       "      <td>3.32</td>\n",
       "    </tr>\n",
       "  </tbody>\n",
       "</table>\n",
       "</div>"
      ],
      "text/plain": [
       "            Nombre  Caloria  Proteina  Grasa  Fibra  Carbohidrato\n",
       "1   Crispy Chicken   187.00     33.40   4.71   0.00          0.51\n",
       "4          Hot Dog   211.00     19.30  14.04   0.00          1.75\n",
       "25        omelette   161.09      8.97  12.42   0.62          3.32"
      ]
     },
     "execution_count": 7,
     "metadata": {},
     "output_type": "execute_result"
    }
   ],
   "source": [
    "print(\"Alimentos con bajo valo de carbohidratos\")\n",
    "df[df[\"Carbohidrato\"]<4]"
   ]
  },
  {
   "cell_type": "code",
   "execution_count": 15,
   "metadata": {},
   "outputs": [
    {
     "name": "stdout",
     "output_type": "stream",
     "text": [
      "Alimentos con bajo valo de carbohidratos\n"
     ]
    },
    {
     "data": {
      "text/html": [
       "<div>\n",
       "<style scoped>\n",
       "    .dataframe tbody tr th:only-of-type {\n",
       "        vertical-align: middle;\n",
       "    }\n",
       "\n",
       "    .dataframe tbody tr th {\n",
       "        vertical-align: top;\n",
       "    }\n",
       "\n",
       "    .dataframe thead th {\n",
       "        text-align: right;\n",
       "    }\n",
       "</style>\n",
       "<table border=\"1\" class=\"dataframe\">\n",
       "  <thead>\n",
       "    <tr style=\"text-align: right;\">\n",
       "      <th></th>\n",
       "      <th>Nombre</th>\n",
       "      <th>Caloria</th>\n",
       "      <th>Proteina</th>\n",
       "      <th>Grasa</th>\n",
       "      <th>Fibra</th>\n",
       "      <th>Carbohidrato</th>\n",
       "    </tr>\n",
       "  </thead>\n",
       "  <tbody>\n",
       "    <tr>\n",
       "      <th>2</th>\n",
       "      <td>Donut</td>\n",
       "      <td>421.0</td>\n",
       "      <td>6.14</td>\n",
       "      <td>22.7</td>\n",
       "      <td>2.1</td>\n",
       "      <td>47.9</td>\n",
       "    </tr>\n",
       "  </tbody>\n",
       "</table>\n",
       "</div>"
      ],
      "text/plain": [
       "  Nombre  Caloria  Proteina  Grasa  Fibra  Carbohidrato\n",
       "2  Donut    421.0      6.14   22.7    2.1          47.9"
      ]
     },
     "execution_count": 15,
     "metadata": {},
     "output_type": "execute_result"
    }
   ],
   "source": [
    "print(\"Alimentos con mayor valor de carbohidratos\")\n",
    "df[df[\"Carbohidrato\"]== df[\"Carbohidrato\"].max()]"
   ]
  }
 ],
 "metadata": {
  "kernelspec": {
   "display_name": "Python 3",
   "language": "python",
   "name": "python3"
  },
  "language_info": {
   "codemirror_mode": {
    "name": "ipython",
    "version": 3
   },
   "file_extension": ".py",
   "mimetype": "text/x-python",
   "name": "python",
   "nbconvert_exporter": "python",
   "pygments_lexer": "ipython3",
   "version": "3.8.10"
  }
 },
 "nbformat": 4,
 "nbformat_minor": 2
}
